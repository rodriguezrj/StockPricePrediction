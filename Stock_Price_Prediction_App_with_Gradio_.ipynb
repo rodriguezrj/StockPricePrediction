{
  "nbformat": 4,
  "nbformat_minor": 0,
  "metadata": {
    "colab": {
      "provenance": []
    },
    "kernelspec": {
      "name": "python3",
      "display_name": "Python 3"
    },
    "language_info": {
      "name": "python"
    }
  },
  "cells": [
    {
      "cell_type": "code",
      "source": [
        "! pip install gradio"
      ],
      "metadata": {
        "colab": {
          "base_uri": "https://localhost:8080/"
        },
        "id": "n0GpGvf_0l1V",
        "outputId": "51a141bc-841c-4d46-f5ee-15d1d53bc97c"
      },
      "execution_count": 3,
      "outputs": [
        {
          "output_type": "stream",
          "name": "stdout",
          "text": [
            "Requirement already satisfied: gradio in /usr/local/lib/python3.10/dist-packages (4.39.0)\n",
            "Requirement already satisfied: aiofiles<24.0,>=22.0 in /usr/local/lib/python3.10/dist-packages (from gradio) (23.2.1)\n",
            "Requirement already satisfied: anyio<5.0,>=3.0 in /usr/local/lib/python3.10/dist-packages (from gradio) (3.7.1)\n",
            "Requirement already satisfied: fastapi in /usr/local/lib/python3.10/dist-packages (from gradio) (0.111.1)\n",
            "Requirement already satisfied: ffmpy in /usr/local/lib/python3.10/dist-packages (from gradio) (0.3.2)\n",
            "Requirement already satisfied: gradio-client==1.1.1 in /usr/local/lib/python3.10/dist-packages (from gradio) (1.1.1)\n",
            "Requirement already satisfied: httpx>=0.24.1 in /usr/local/lib/python3.10/dist-packages (from gradio) (0.27.0)\n",
            "Requirement already satisfied: huggingface-hub>=0.19.3 in /usr/local/lib/python3.10/dist-packages (from gradio) (0.23.5)\n",
            "Requirement already satisfied: importlib-resources<7.0,>=1.3 in /usr/local/lib/python3.10/dist-packages (from gradio) (6.4.0)\n",
            "Requirement already satisfied: jinja2<4.0 in /usr/local/lib/python3.10/dist-packages (from gradio) (3.1.4)\n",
            "Requirement already satisfied: markupsafe~=2.0 in /usr/local/lib/python3.10/dist-packages (from gradio) (2.1.5)\n",
            "Requirement already satisfied: matplotlib~=3.0 in /usr/local/lib/python3.10/dist-packages (from gradio) (3.7.1)\n",
            "Requirement already satisfied: numpy<3.0,>=1.0 in /usr/local/lib/python3.10/dist-packages (from gradio) (1.25.2)\n",
            "Requirement already satisfied: orjson~=3.0 in /usr/local/lib/python3.10/dist-packages (from gradio) (3.10.6)\n",
            "Requirement already satisfied: packaging in /usr/local/lib/python3.10/dist-packages (from gradio) (24.1)\n",
            "Requirement already satisfied: pandas<3.0,>=1.0 in /usr/local/lib/python3.10/dist-packages (from gradio) (2.0.3)\n",
            "Requirement already satisfied: pillow<11.0,>=8.0 in /usr/local/lib/python3.10/dist-packages (from gradio) (9.4.0)\n",
            "Requirement already satisfied: pydantic>=2.0 in /usr/local/lib/python3.10/dist-packages (from gradio) (2.8.2)\n",
            "Requirement already satisfied: pydub in /usr/local/lib/python3.10/dist-packages (from gradio) (0.25.1)\n",
            "Requirement already satisfied: python-multipart>=0.0.9 in /usr/local/lib/python3.10/dist-packages (from gradio) (0.0.9)\n",
            "Requirement already satisfied: pyyaml<7.0,>=5.0 in /usr/local/lib/python3.10/dist-packages (from gradio) (6.0.1)\n",
            "Requirement already satisfied: ruff>=0.2.2 in /usr/local/lib/python3.10/dist-packages (from gradio) (0.5.4)\n",
            "Requirement already satisfied: semantic-version~=2.0 in /usr/local/lib/python3.10/dist-packages (from gradio) (2.10.0)\n",
            "Requirement already satisfied: tomlkit==0.12.0 in /usr/local/lib/python3.10/dist-packages (from gradio) (0.12.0)\n",
            "Requirement already satisfied: typer<1.0,>=0.12 in /usr/local/lib/python3.10/dist-packages (from gradio) (0.12.3)\n",
            "Requirement already satisfied: typing-extensions~=4.0 in /usr/local/lib/python3.10/dist-packages (from gradio) (4.12.2)\n",
            "Requirement already satisfied: urllib3~=2.0 in /usr/local/lib/python3.10/dist-packages (from gradio) (2.0.7)\n",
            "Requirement already satisfied: uvicorn>=0.14.0 in /usr/local/lib/python3.10/dist-packages (from gradio) (0.30.3)\n",
            "Requirement already satisfied: fsspec in /usr/local/lib/python3.10/dist-packages (from gradio-client==1.1.1->gradio) (2023.6.0)\n",
            "Requirement already satisfied: websockets<12.0,>=10.0 in /usr/local/lib/python3.10/dist-packages (from gradio-client==1.1.1->gradio) (11.0.3)\n",
            "Requirement already satisfied: idna>=2.8 in /usr/local/lib/python3.10/dist-packages (from anyio<5.0,>=3.0->gradio) (3.7)\n",
            "Requirement already satisfied: sniffio>=1.1 in /usr/local/lib/python3.10/dist-packages (from anyio<5.0,>=3.0->gradio) (1.3.1)\n",
            "Requirement already satisfied: exceptiongroup in /usr/local/lib/python3.10/dist-packages (from anyio<5.0,>=3.0->gradio) (1.2.2)\n",
            "Requirement already satisfied: certifi in /usr/local/lib/python3.10/dist-packages (from httpx>=0.24.1->gradio) (2024.7.4)\n",
            "Requirement already satisfied: httpcore==1.* in /usr/local/lib/python3.10/dist-packages (from httpx>=0.24.1->gradio) (1.0.5)\n",
            "Requirement already satisfied: h11<0.15,>=0.13 in /usr/local/lib/python3.10/dist-packages (from httpcore==1.*->httpx>=0.24.1->gradio) (0.14.0)\n",
            "Requirement already satisfied: filelock in /usr/local/lib/python3.10/dist-packages (from huggingface-hub>=0.19.3->gradio) (3.15.4)\n",
            "Requirement already satisfied: requests in /usr/local/lib/python3.10/dist-packages (from huggingface-hub>=0.19.3->gradio) (2.31.0)\n",
            "Requirement already satisfied: tqdm>=4.42.1 in /usr/local/lib/python3.10/dist-packages (from huggingface-hub>=0.19.3->gradio) (4.66.4)\n",
            "Requirement already satisfied: contourpy>=1.0.1 in /usr/local/lib/python3.10/dist-packages (from matplotlib~=3.0->gradio) (1.2.1)\n",
            "Requirement already satisfied: cycler>=0.10 in /usr/local/lib/python3.10/dist-packages (from matplotlib~=3.0->gradio) (0.12.1)\n",
            "Requirement already satisfied: fonttools>=4.22.0 in /usr/local/lib/python3.10/dist-packages (from matplotlib~=3.0->gradio) (4.53.1)\n",
            "Requirement already satisfied: kiwisolver>=1.0.1 in /usr/local/lib/python3.10/dist-packages (from matplotlib~=3.0->gradio) (1.4.5)\n",
            "Requirement already satisfied: pyparsing>=2.3.1 in /usr/local/lib/python3.10/dist-packages (from matplotlib~=3.0->gradio) (3.1.2)\n",
            "Requirement already satisfied: python-dateutil>=2.7 in /usr/local/lib/python3.10/dist-packages (from matplotlib~=3.0->gradio) (2.8.2)\n",
            "Requirement already satisfied: pytz>=2020.1 in /usr/local/lib/python3.10/dist-packages (from pandas<3.0,>=1.0->gradio) (2023.4)\n",
            "Requirement already satisfied: tzdata>=2022.1 in /usr/local/lib/python3.10/dist-packages (from pandas<3.0,>=1.0->gradio) (2024.1)\n",
            "Requirement already satisfied: annotated-types>=0.4.0 in /usr/local/lib/python3.10/dist-packages (from pydantic>=2.0->gradio) (0.7.0)\n",
            "Requirement already satisfied: pydantic-core==2.20.1 in /usr/local/lib/python3.10/dist-packages (from pydantic>=2.0->gradio) (2.20.1)\n",
            "Requirement already satisfied: click>=8.0.0 in /usr/local/lib/python3.10/dist-packages (from typer<1.0,>=0.12->gradio) (8.1.7)\n",
            "Requirement already satisfied: shellingham>=1.3.0 in /usr/local/lib/python3.10/dist-packages (from typer<1.0,>=0.12->gradio) (1.5.4)\n",
            "Requirement already satisfied: rich>=10.11.0 in /usr/local/lib/python3.10/dist-packages (from typer<1.0,>=0.12->gradio) (13.7.1)\n",
            "Requirement already satisfied: starlette<0.38.0,>=0.37.2 in /usr/local/lib/python3.10/dist-packages (from fastapi->gradio) (0.37.2)\n",
            "Requirement already satisfied: fastapi-cli>=0.0.2 in /usr/local/lib/python3.10/dist-packages (from fastapi->gradio) (0.0.4)\n",
            "Requirement already satisfied: email_validator>=2.0.0 in /usr/local/lib/python3.10/dist-packages (from fastapi->gradio) (2.2.0)\n",
            "Requirement already satisfied: dnspython>=2.0.0 in /usr/local/lib/python3.10/dist-packages (from email_validator>=2.0.0->fastapi->gradio) (2.6.1)\n",
            "Requirement already satisfied: six>=1.5 in /usr/local/lib/python3.10/dist-packages (from python-dateutil>=2.7->matplotlib~=3.0->gradio) (1.16.0)\n",
            "Requirement already satisfied: markdown-it-py>=2.2.0 in /usr/local/lib/python3.10/dist-packages (from rich>=10.11.0->typer<1.0,>=0.12->gradio) (3.0.0)\n",
            "Requirement already satisfied: pygments<3.0.0,>=2.13.0 in /usr/local/lib/python3.10/dist-packages (from rich>=10.11.0->typer<1.0,>=0.12->gradio) (2.16.1)\n",
            "Requirement already satisfied: httptools>=0.5.0 in /usr/local/lib/python3.10/dist-packages (from uvicorn>=0.14.0->gradio) (0.6.1)\n",
            "Requirement already satisfied: python-dotenv>=0.13 in /usr/local/lib/python3.10/dist-packages (from uvicorn>=0.14.0->gradio) (1.0.1)\n",
            "Requirement already satisfied: uvloop!=0.15.0,!=0.15.1,>=0.14.0 in /usr/local/lib/python3.10/dist-packages (from uvicorn>=0.14.0->gradio) (0.19.0)\n",
            "Requirement already satisfied: watchfiles>=0.13 in /usr/local/lib/python3.10/dist-packages (from uvicorn>=0.14.0->gradio) (0.22.0)\n",
            "Requirement already satisfied: charset-normalizer<4,>=2 in /usr/local/lib/python3.10/dist-packages (from requests->huggingface-hub>=0.19.3->gradio) (3.3.2)\n",
            "Requirement already satisfied: mdurl~=0.1 in /usr/local/lib/python3.10/dist-packages (from markdown-it-py>=2.2.0->rich>=10.11.0->typer<1.0,>=0.12->gradio) (0.1.2)\n"
          ]
        }
      ]
    },
    {
      "cell_type": "code",
      "execution_count": 4,
      "metadata": {
        "colab": {
          "base_uri": "https://localhost:8080/",
          "height": 626
        },
        "id": "4q_F_7DU0hOy",
        "outputId": "0dc3d048-df5b-4607-c853-a7a33b74e297"
      },
      "outputs": [
        {
          "output_type": "stream",
          "name": "stdout",
          "text": [
            "Setting queue=True in a Colab notebook requires sharing enabled. Setting `share=True` (you can turn this off by setting `share=False` in `launch()` explicitly).\n",
            "\n",
            "Colab notebook detected. To show errors in colab notebook, set debug=True in launch()\n",
            "Running on public URL: https://b00d17d3ab418efa2f.gradio.live\n",
            "\n",
            "This share link expires in 72 hours. For free permanent hosting and GPU upgrades, run `gradio deploy` from Terminal to deploy to Spaces (https://huggingface.co/spaces)\n"
          ]
        },
        {
          "output_type": "display_data",
          "data": {
            "text/plain": [
              "<IPython.core.display.HTML object>"
            ],
            "text/html": [
              "<div><iframe src=\"https://b00d17d3ab418efa2f.gradio.live\" width=\"100%\" height=\"500\" allow=\"autoplay; camera; microphone; clipboard-read; clipboard-write;\" frameborder=\"0\" allowfullscreen></iframe></div>"
            ]
          },
          "metadata": {}
        },
        {
          "output_type": "execute_result",
          "data": {
            "text/plain": []
          },
          "metadata": {},
          "execution_count": 4
        }
      ],
      "source": [
        "import gradio as gr\n",
        "import yfinance as yf\n",
        "import matplotlib.pyplot as plt\n",
        "from datetime import datetime, timedelta\n",
        "import pandas as pd\n",
        "from prophet import Prophet\n",
        "import numpy as np\n",
        "\n",
        "def get_nearest_date(date, date_series):\n",
        "    return date_series[np.abs(date_series - date).argmin()]\n",
        "\n",
        "def get_stock_info(symbol):\n",
        "    try:\n",
        "        stock = yf.Ticker(symbol)\n",
        "\n",
        "        # Get historical data for the past 10 years (if available)\n",
        "        end_date = datetime.now()\n",
        "        start_date = end_date - timedelta(days=3650)  # Approximately 10 years\n",
        "        hist = stock.history(start=start_date, end=end_date)\n",
        "\n",
        "        if hist.empty:\n",
        "            raise ValueError(f\"No data available for symbol {symbol}\")\n",
        "\n",
        "        # Get the current price (last available closing price)\n",
        "        current_price = hist['Close'].iloc[-1]\n",
        "\n",
        "        # Get the most recent opening and closing prices\n",
        "        latest_data = hist.iloc[-1]\n",
        "        opening_price = latest_data['Open']\n",
        "        closing_price = latest_data['Close']\n",
        "\n",
        "        # Calculate max and min prices\n",
        "        max_price = hist['High'].max()\n",
        "        min_price = hist['Low'].min()\n",
        "\n",
        "        # Prepare data for Prophet\n",
        "        prophet_data = hist.reset_index()[['Date', 'Close']].rename(columns={'Date': 'ds', 'Close': 'y'})\n",
        "        # Remove timezone information\n",
        "        prophet_data['ds'] = prophet_data['ds'].dt.tz_localize(None)\n",
        "\n",
        "        # Create and fit the Prophet model\n",
        "        model = Prophet(yearly_seasonality=True, daily_seasonality=False, weekly_seasonality=False)\n",
        "        model.fit(prophet_data)\n",
        "\n",
        "        # Generate future dates for prediction (10 years)\n",
        "        future_dates = model.make_future_dataframe(periods=3650)\n",
        "\n",
        "        # Make predictions\n",
        "        forecast = model.predict(future_dates)\n",
        "\n",
        "        # Get predictions for 1, 5, and 10 years\n",
        "        pred_dates = [end_date + timedelta(days=365), end_date + timedelta(days=1825), end_date + timedelta(days=3650)]\n",
        "        pred_labels = [\"1 year\", \"5 years\", \"10 years\"]\n",
        "        predictions = []\n",
        "\n",
        "        for date in pred_dates:\n",
        "            nearest_date = get_nearest_date(date, forecast['ds'])\n",
        "            pred_price = forecast[forecast['ds'] == nearest_date]['yhat'].values[0]\n",
        "            predictions.append(pred_price)\n",
        "\n",
        "        # Create plots\n",
        "        fig, (ax1, ax2) = plt.subplots(2, 1, figsize=(12, 16))\n",
        "\n",
        "        # Historical price plot\n",
        "        ax1.plot(hist.index, hist['Close'])\n",
        "        ax1.set_title(f\"{symbol} Stock Price - Historical Data\")\n",
        "        ax1.set_xlabel(\"Date\")\n",
        "        ax1.set_ylabel(\"Price (USD)\")\n",
        "        ax1.grid(True)\n",
        "\n",
        "        # Forecast plot\n",
        "        model.plot(forecast, ax=ax2)\n",
        "        ax2.set_title(f\"{symbol} Stock Price - 10 Year Forecast\")\n",
        "        ax2.set_xlabel(\"Date\")\n",
        "        ax2.set_ylabel(\"Price (USD)\")\n",
        "\n",
        "        plt.tight_layout()\n",
        "\n",
        "        return (\n",
        "            f\"Current price of {symbol}: ${current_price:.2f}\",\n",
        "            f\"Opening price: ${opening_price:.2f}\",\n",
        "            f\"Closing price: ${closing_price:.2f}\",\n",
        "            f\"Max price: ${max_price:.2f}\",\n",
        "            f\"Min price: ${min_price:.2f}\",\n",
        "            f\"Predicted price (1 year): ${predictions[0]:.2f}\",\n",
        "            f\"Predicted price (5 years): ${predictions[1]:.2f}\",\n",
        "            f\"Predicted price (10 years): ${predictions[2]:.2f}\",\n",
        "            fig\n",
        "        )\n",
        "    except Exception as e:\n",
        "        return str(e), \"\", \"\", \"\", \"\", \"\", \"\", \"\", None\n",
        "\n",
        "# Create the Gradio interface\n",
        "app = gr.Interface(\n",
        "    fn=get_stock_info,\n",
        "    inputs=gr.Textbox(label=\"Enter stock symbol (e.g., AAPL, GOOGL)\"),\n",
        "    outputs=[\n",
        "        gr.Textbox(label=\"Current Price\"),\n",
        "        gr.Textbox(label=\"Opening Price\"),\n",
        "        gr.Textbox(label=\"Closing Price\"),\n",
        "        gr.Textbox(label=\"Max Price\"),\n",
        "        gr.Textbox(label=\"Min Price\"),\n",
        "        gr.Textbox(label=\"Predicted Price (1 year)\"),\n",
        "        gr.Textbox(label=\"Predicted Price (5 years)\"),\n",
        "        gr.Textbox(label=\"Predicted Price (10 years)\"),\n",
        "        gr.Plot(label=\"Price Chart and Forecast\")\n",
        "    ],\n",
        "    title=\"Stock Price Viewer and Long-Term Predictor\",\n",
        "    description=\"Enter a stock symbol to view its current, opening, closing, max, and min prices, along with a price chart and 1, 5, and 10-year forecasts.\"\n",
        ")\n",
        "\n",
        "# Launch the app\n",
        "app.launch()"
      ]
    }
  ]
}